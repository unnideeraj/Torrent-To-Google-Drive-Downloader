{
  "nbformat": 4,
  "nbformat_minor": 0,
  "metadata": {
    "colab": {
      "provenance": [],
      "authorship_tag": "ABX9TyMpgtQQoKiz7FiGeexEigOF",
      "include_colab_link": true
    },
    "kernelspec": {
      "name": "python3",
      "display_name": "Python 3"
    },
    "language_info": {
      "name": "python"
    }
  },
  "cells": [
    {
      "cell_type": "markdown",
      "metadata": {
        "id": "view-in-github",
        "colab_type": "text"
      },
      "source": [
        "<a href=\"https://colab.research.google.com/github/unnideeraj/Torrent-To-Google-Drive-Downloader/blob/main/Torrent_To_GDrive.ipynb\" target=\"_parent\"><img src=\"https://colab.research.google.com/assets/colab-badge.svg\" alt=\"Open In Colab\"/></a>"
      ]
    },
    {
      "cell_type": "markdown",
      "source": [
        "First Link Gdrive with COllab"
      ],
      "metadata": {
        "id": "RXTSzKy_7cNo"
      }
    },
    {
      "cell_type": "code",
      "execution_count": null,
      "metadata": {
        "id": "eZbcAwU56vTa"
      },
      "outputs": [],
      "source": [
        "from google.colab import drive\n",
        "drive.mount('/content/drive')"
      ]
    },
    {
      "cell_type": "code",
      "source": [
        "!apt install python3-libtorrent"
      ],
      "metadata": {
        "id": "mP47ijhC7WXK"
      },
      "execution_count": null,
      "outputs": []
    },
    {
      "cell_type": "code",
      "source": [
        "import libtorrent as lt\n",
        "import time\n",
        "import datetime\n",
        "\n",
        "# Create session object and set listening ports\n",
        "ses = lt.session()\n",
        "ses.listen_on(6881, 6891)\n",
        "\n",
        "# Parameters for handling torrents\n",
        "params = {\n",
        "    'save_path': '/content/drive/My Drive/Torrent/',\n",
        "    'storage_mode': lt.storage_mode_t.storage_mode_sparse,\n",
        "    'flags': lt.torrent_flags.auto_managed\n",
        "}\n",
        "\n",
        "# The magnet link to be used\n",
        "link = \"PASTE YOUR MAGNET LINK HERE\"\n",
        "print(link)\n",
        "\n",
        "# Add the magnet link to the session\n",
        "params = {\n",
        "    'save_path': '/content/drive/My Drive/Torrent/',\n",
        "    'storage_mode': lt.storage_mode_t.storage_mode_sparse,\n",
        "    'flags': lt.torrent_flags.auto_managed,\n",
        "    'url': link\n",
        "}\n",
        "\n",
        "handle = ses.add_torrent(params)\n",
        "ses.start_dht()\n",
        "\n",
        "# Track start time\n",
        "begin = time.time()\n",
        "print(datetime.datetime.now())\n",
        "\n",
        "print('Downloading Metadata...')\n",
        "while not handle.has_metadata():\n",
        "    time.sleep(1)\n",
        "print('Got Metadata, Starting Torrent Download...')\n",
        "\n",
        "print(\"Starting\", handle.name())\n",
        "\n",
        "# Monitor the torrent download progress\n",
        "while handle.status().state != lt.torrent_status.seeding:\n",
        "    s = handle.status()\n",
        "    state_str = ['queued', 'checking', 'downloading metadata',\n",
        "                 'downloading', 'finished', 'seeding', 'allocating']\n",
        "    print('%.2f%% complete (down: %.1f kB/s up: %.1f kB/s peers: %d) %s' %\n",
        "          (s.progress * 100, s.download_rate / 1000, s.upload_rate / 1000, s.num_peers, state_str[s.state]))\n",
        "    time.sleep(5)\n",
        "\n",
        "# Track end time\n",
        "end = time.time()\n",
        "print(handle.name(), \"COMPLETE\")\n",
        "print(\"Elapsed Time: \", int((end - begin) // 60), \"min :\", int((end - begin) % 60), \"sec\")\n",
        "print(datetime.datetime.now())\n"
      ],
      "metadata": {
        "id": "lHeMVKt67ijP"
      },
      "execution_count": null,
      "outputs": []
    }
  ]
}