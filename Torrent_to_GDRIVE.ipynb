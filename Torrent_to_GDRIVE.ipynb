{
  "nbformat": 4,
  "nbformat_minor": 0,
  "metadata": {
    "colab": {
      "provenance": [],
      "authorship_tag": "ABX9TyM2bgrzWTQxi2xHObBgRtCd",
      "include_colab_link": true
    },
    "kernelspec": {
      "name": "python3",
      "display_name": "Python 3"
    },
    "language_info": {
      "name": "python"
    }
  },
  "cells": [
    {
      "cell_type": "markdown",
      "metadata": {
        "id": "view-in-github",
        "colab_type": "text"
      },
      "source": [
        "<a href=\"https://colab.research.google.com/github/unnideeraj/Torrent-To-Google-Drive-Downloader/blob/main/Torrent_to_GDRIVE.ipynb\" target=\"_parent\"><img src=\"https://colab.research.google.com/assets/colab-badge.svg\" alt=\"Open In Colab\"/></a>"
      ]
    },
    {
      "cell_type": "code",
      "execution_count": null,
      "metadata": {
        "id": "08eNdE19XSbU"
      },
      "outputs": [],
      "source": [
        "from google.colab import drive\n",
        "drive.mount('/content/drive')"
      ]
    },
    {
      "cell_type": "code",
      "source": [
        "!apt install python3-libtorrent"
      ],
      "metadata": {
        "id": "HP9hhwEcXWdO"
      },
      "execution_count": null,
      "outputs": []
    },
    {
      "cell_type": "code",
      "source": [
        "import libtorrent as lt\n",
        "import time\n",
        "import datetime\n",
        "\n",
        "# Create session object and set listening ports\n",
        "ses = lt.session()\n",
        "ses.listen_on(6881, 6891)\n",
        "\n",
        "# Magnet link for the torrent\n",
        "link = \"PASTE YOUR MAGNET LINK HERE\"\n",
        "\n",
        "# Add the magnet link to the session\n",
        "params = {\n",
        "    'save_path': '/content/drive/My Drive/Torrent/',\n",
        "    'storage_mode': lt.storage_mode_t.storage_mode_sparse,\n",
        "    'url': link\n",
        "}\n",
        "handle = ses.add_torrent(params)\n",
        "ses.start_dht()\n",
        "\n",
        "# Track start time\n",
        "begin = time.time()\n",
        "print(\"Started:\", datetime.datetime.now())\n",
        "\n",
        "# Wait for metadata to download\n",
        "print('Downloading Metadata...')\n",
        "while not handle.has_metadata():\n",
        "    time.sleep(1)\n",
        "print('Metadata downloaded, starting torrent...')\n",
        "\n",
        "#  progress\n",
        "while handle.status().state != lt.torrent_status.seeding:\n",
        "    s = handle.status()\n",
        "    print('%.2f%% complete (down: %.1f kB/s up: %.1f kB/s peers: %d)' %\n",
        "          (s.progress * 100, s.download_rate / 1000, s.upload_rate / 1000, s.num_peers))\n",
        "    time.sleep(5)\n",
        "\n",
        "# Track end time\n",
        "end = time.time()\n",
        "print(\"Download Complete:\", handle.name())\n",
        "print(\"Elapsed Time:\", int((end - begin) // 60), \"min:\", int((end - begin) % 60), \"sec\")\n",
        "print(\"Finished:\", datetime.datetime.now())\n"
      ],
      "metadata": {
        "id": "Z_caPMuMXWru"
      },
      "execution_count": null,
      "outputs": []
    },
    {
      "cell_type": "code",
      "source": [],
      "metadata": {
        "id": "7BHjEeseXXhJ"
      },
      "execution_count": null,
      "outputs": []
    }
  ]
}